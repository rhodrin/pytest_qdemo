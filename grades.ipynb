{
 "cells": [
  {
   "cell_type": "markdown",
   "id": "93c6a0ae",
   "metadata": {},
   "source": [
    "# UK MSc grading system\n",
    "\n",
    "- **70%+** = Distinction (20-25% of students expected to achieve distinctions)\n",
    "- **60%<=mark<70%** = Merit\n",
    "- **50%<=mark<60%**\n",
    "\n",
    "### Course letter grades\n",
    "\n",
    "- => 80% = A*\n",
    "- 70% <= Mark < 80% = A\n",
    "- 60% <= Mark < 70% = B\n",
    "- 50% <= Mark < 60% = C\n",
    "- 40% <= Mark < 50% = D\n",
    "- 30% <= Mark < 40% = E"
   ]
  }
 ],
 "metadata": {
  "kernelspec": {
   "display_name": "Python 3 (ipykernel)",
   "language": "python",
   "name": "python3"
  },
  "language_info": {
   "codemirror_mode": {
    "name": "ipython",
    "version": 3
   },
   "file_extension": ".py",
   "mimetype": "text/x-python",
   "name": "python",
   "nbconvert_exporter": "python",
   "pygments_lexer": "ipython3",
   "version": "3.10.4"
  }
 },
 "nbformat": 4,
 "nbformat_minor": 5
}
